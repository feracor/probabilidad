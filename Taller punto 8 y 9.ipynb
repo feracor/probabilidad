{
 "cells": [
  {
   "cell_type": "markdown",
   "id": "f13081d2-b7a1-4b1e-ae15-d31f9ef14eb8",
   "metadata": {},
   "source": [
    "#### <font color ='000000'> 8. Consulte que es el coeficiente de correlación de Pearson. Haga una breve descripción en un Markdown"
   ]
  },
  {
   "cell_type": "markdown",
   "id": "10524548-5c70-419d-8467-a149859f43c6",
   "metadata": {},
   "source": [
    "#### <font color = '000000'> COEFICIENTE DE CORRELACIÓN DE PEARSON\n",
    "   \n",
    "    Es un método propio de la estadística paramétrica, el cual se usa para conocer la relacion entre dos variables cuantitativas, pero también se usa para la predicción de una variable (la regresión lineal).\n",
    "    \n",
    "    EL coeficiente de correlación de Pearson es una prueba que mide la relación estadística entre dos variales continuas. Si la asociación entre los elementos no es lineal, entonces el coeficiente no se encuentra representado adecuadamente, es adecuado para datos de escala de razón o intervalo, ya que toma en cuenta la magnitud relativa de las observaciones.\n",
    "    \n",
    "    Este coeficiente oscila entre -1 y +1 de tal modo que se interpreta de la siguiente manera:\n",
    "    \n",
    "    - Un valor menor que 0 indica que existe una correlación negativa, es decir, que las dos variables están asociadas en sentido inverso. Cuánto más se acerca a -1, mayor es la fuerza de esa relación invertida (cuando el valor en una sea muy alto, el valor en la otra será muy bajo). Cuando es exactamente -1, eso significa que tienen una correlación negativa perfecta.\n",
    "   \n",
    "    - Un valor mayor que 0 indica que existe una correlación positiva. En este caso las variables estarían asociadas en sentido directo. Cuanto más cerca de +1, más alta es su asociación. Un valor exacto de +1 indicaría una relación lineal positiva perfecta.\n",
    "    \n",
    "    -Una correlación de 0, o próxima a 0, indica que no hay relación lineal entre las dos variables.\n",
    "    \n",
    "    De tal forma el coeficiente de correlación de Pearson se define:"
   ]
  },
  {
   "cell_type": "markdown",
   "id": "d62ddee9-79f2-415b-87b2-47db2c22a766",
   "metadata": {},
   "source": [
    "$$r_{xy}= \\frac{\\sum Z_{x}Z_{y}}{N}$$\n",
    "    "
   ]
  },
  {
   "cell_type": "markdown",
   "id": "77f35ec7-a0c7-4ff1-8ac3-670041ef9b68",
   "metadata": {},
   "source": [
    "#### <fotn color ='000000'> donde:\n",
    "    \"x\"  es igual a la variable número uno\n",
    "    \"y\"  es igual a la variable número dos\n",
    "    \"zx\" es la desviación estándar de la variable uno\n",
    "    \"zy\" es la desviación estándar de la variable dos\n",
    "    \"N\"  es es número de datos."
   ]
  },
  {
   "cell_type": "markdown",
   "id": "e354f397-99b7-42aa-84ab-f7c48dc9bee0",
   "metadata": {},
   "source": [
    "#### <font color ='000000'> 9. Calcule la correlación entre el PIB departamental y los resultados de las pruebas SABER 11 en la asignatura de matemáticas (Variable “tema_matematica”). ¿Qué puede decir sobre la relación entre estas dos variables? Ayúdese de lo consultado en el punto 8. Responda la pregunta en el Markdown.\n",
    "    \n",
    "    PIB departamental:"
   ]
  },
  {
   "cell_type": "code",
   "execution_count": 6,
   "id": "7c259e6a-7814-4836-becf-c21b4c53fbb5",
   "metadata": {},
   "outputs": [],
   "source": [
    "import pandas as pd"
   ]
  },
  {
   "cell_type": "code",
   "execution_count": 22,
   "id": "5fae90b9-85ff-46f1-aa91-ccf265a9d8fa",
   "metadata": {},
   "outputs": [],
   "source": [
    "PIB = pd.read_excel('PIB Departamental.xlsx', index_col=None, header=None)"
   ]
  },
  {
   "cell_type": "code",
   "execution_count": 34,
   "id": "60ce6b02-4542-42d7-b8f4-997cb90f5685",
   "metadata": {},
   "outputs": [
    {
     "data": {
      "text/html": [
       "<div>\n",
       "<style scoped>\n",
       "    .dataframe tbody tr th:only-of-type {\n",
       "        vertical-align: middle;\n",
       "    }\n",
       "\n",
       "    .dataframe tbody tr th {\n",
       "        vertical-align: top;\n",
       "    }\n",
       "\n",
       "    .dataframe thead th {\n",
       "        text-align: right;\n",
       "    }\n",
       "</style>\n",
       "<table border=\"1\" class=\"dataframe\">\n",
       "  <thead>\n",
       "    <tr style=\"text-align: right;\">\n",
       "      <th></th>\n",
       "      <th>Departamento</th>\n",
       "      <th>PIB</th>\n",
       "    </tr>\n",
       "  </thead>\n",
       "  <tbody>\n",
       "    <tr>\n",
       "      <th>0</th>\n",
       "      <td>Amazonas</td>\n",
       "      <td>355</td>\n",
       "    </tr>\n",
       "    <tr>\n",
       "      <th>1</th>\n",
       "      <td>Antioquia</td>\n",
       "      <td>67432</td>\n",
       "    </tr>\n",
       "    <tr>\n",
       "      <th>2</th>\n",
       "      <td>Arauca</td>\n",
       "      <td>4895</td>\n",
       "    </tr>\n",
       "    <tr>\n",
       "      <th>3</th>\n",
       "      <td>Atlántico</td>\n",
       "      <td>20429</td>\n",
       "    </tr>\n",
       "    <tr>\n",
       "      <th>4</th>\n",
       "      <td>Bogotá D. C.</td>\n",
       "      <td>132129</td>\n",
       "    </tr>\n",
       "    <tr>\n",
       "      <th>5</th>\n",
       "      <td>Bolívar</td>\n",
       "      <td>19232</td>\n",
       "    </tr>\n",
       "    <tr>\n",
       "      <th>6</th>\n",
       "      <td>Boyacá</td>\n",
       "      <td>14094</td>\n",
       "    </tr>\n",
       "    <tr>\n",
       "      <th>7</th>\n",
       "      <td>Caldas</td>\n",
       "      <td>8164</td>\n",
       "    </tr>\n",
       "    <tr>\n",
       "      <th>8</th>\n",
       "      <td>Caquetá</td>\n",
       "      <td>2222</td>\n",
       "    </tr>\n",
       "    <tr>\n",
       "      <th>9</th>\n",
       "      <td>Casanare</td>\n",
       "      <td>8250</td>\n",
       "    </tr>\n",
       "    <tr>\n",
       "      <th>10</th>\n",
       "      <td>Cauca</td>\n",
       "      <td>7341</td>\n",
       "    </tr>\n",
       "    <tr>\n",
       "      <th>11</th>\n",
       "      <td>Cesar</td>\n",
       "      <td>10034</td>\n",
       "    </tr>\n",
       "    <tr>\n",
       "      <th>12</th>\n",
       "      <td>Chocó</td>\n",
       "      <td>2069</td>\n",
       "    </tr>\n",
       "    <tr>\n",
       "      <th>13</th>\n",
       "      <td>Córdoba</td>\n",
       "      <td>9195</td>\n",
       "    </tr>\n",
       "    <tr>\n",
       "      <th>14</th>\n",
       "      <td>Cundinamarca</td>\n",
       "      <td>26079</td>\n",
       "    </tr>\n",
       "    <tr>\n",
       "      <th>15</th>\n",
       "      <td>Guainía</td>\n",
       "      <td>168</td>\n",
       "    </tr>\n",
       "    <tr>\n",
       "      <th>16</th>\n",
       "      <td>Guaviare</td>\n",
       "      <td>465</td>\n",
       "    </tr>\n",
       "    <tr>\n",
       "      <th>17</th>\n",
       "      <td>Huila</td>\n",
       "      <td>8865</td>\n",
       "    </tr>\n",
       "    <tr>\n",
       "      <th>18</th>\n",
       "      <td>La Guajira</td>\n",
       "      <td>6471</td>\n",
       "    </tr>\n",
       "    <tr>\n",
       "      <th>19</th>\n",
       "      <td>Magdalena</td>\n",
       "      <td>7079</td>\n",
       "    </tr>\n",
       "    <tr>\n",
       "      <th>20</th>\n",
       "      <td>Meta</td>\n",
       "      <td>16164</td>\n",
       "    </tr>\n",
       "    <tr>\n",
       "      <th>21</th>\n",
       "      <td>Nariño</td>\n",
       "      <td>7810</td>\n",
       "    </tr>\n",
       "    <tr>\n",
       "      <th>22</th>\n",
       "      <td>Norte Santander</td>\n",
       "      <td>8991</td>\n",
       "    </tr>\n",
       "    <tr>\n",
       "      <th>23</th>\n",
       "      <td>Putumayo</td>\n",
       "      <td>2120</td>\n",
       "    </tr>\n",
       "    <tr>\n",
       "      <th>24</th>\n",
       "      <td>Quindío</td>\n",
       "      <td>3841</td>\n",
       "    </tr>\n",
       "    <tr>\n",
       "      <th>25</th>\n",
       "      <td>Risaralda</td>\n",
       "      <td>7829</td>\n",
       "    </tr>\n",
       "    <tr>\n",
       "      <th>26</th>\n",
       "      <td>San Andrés y Providencia</td>\n",
       "      <td>772</td>\n",
       "    </tr>\n",
       "    <tr>\n",
       "      <th>27</th>\n",
       "      <td>Santander</td>\n",
       "      <td>34669</td>\n",
       "    </tr>\n",
       "    <tr>\n",
       "      <th>28</th>\n",
       "      <td>Sucre</td>\n",
       "      <td>4119</td>\n",
       "    </tr>\n",
       "    <tr>\n",
       "      <th>29</th>\n",
       "      <td>Tolima</td>\n",
       "      <td>11571</td>\n",
       "    </tr>\n",
       "    <tr>\n",
       "      <th>30</th>\n",
       "      <td>Valle</td>\n",
       "      <td>51321</td>\n",
       "    </tr>\n",
       "    <tr>\n",
       "      <th>31</th>\n",
       "      <td>Vaupés</td>\n",
       "      <td>133</td>\n",
       "    </tr>\n",
       "    <tr>\n",
       "      <th>32</th>\n",
       "      <td>Vichada</td>\n",
       "      <td>339</td>\n",
       "    </tr>\n",
       "  </tbody>\n",
       "</table>\n",
       "</div>"
      ],
      "text/plain": [
       "                Departamento     PIB\n",
       "0                   Amazonas     355\n",
       "1                  Antioquia   67432\n",
       "2                     Arauca    4895\n",
       "3                  Atlántico   20429\n",
       "4               Bogotá D. C.  132129\n",
       "5                    Bolívar   19232\n",
       "6                     Boyacá   14094\n",
       "7                     Caldas    8164\n",
       "8                    Caquetá    2222\n",
       "9                   Casanare    8250\n",
       "10                     Cauca    7341\n",
       "11                     Cesar   10034\n",
       "12                     Chocó    2069\n",
       "13                   Córdoba    9195\n",
       "14              Cundinamarca   26079\n",
       "15                   Guainía     168\n",
       "16                  Guaviare     465\n",
       "17                     Huila    8865\n",
       "18                La Guajira    6471\n",
       "19                 Magdalena    7079\n",
       "20                      Meta   16164\n",
       "21                    Nariño    7810\n",
       "22           Norte Santander    8991\n",
       "23                  Putumayo    2120\n",
       "24                   Quindío    3841\n",
       "25                 Risaralda    7829\n",
       "26  San Andrés y Providencia     772\n",
       "27                 Santander   34669\n",
       "28                     Sucre    4119\n",
       "29                    Tolima   11571\n",
       "30                     Valle   51321\n",
       "31                    Vaupés     133\n",
       "32                   Vichada     339"
      ]
     },
     "execution_count": 34,
     "metadata": {},
     "output_type": "execute_result"
    }
   ],
   "source": [
    "PIB = PIB.rename (columns = {0:\"Departamento\", 1:\"PIB\"})\n",
    "PIB"
   ]
  },
  {
   "cell_type": "markdown",
   "id": "5dedb3ae-f83b-4d43-9219-5b5f4ef425ea",
   "metadata": {},
   "source": [
    "### <font color ='000000'> \n",
    "    Resultados de las pruebas SABER 11 de la asignatura de matemáticas "
   ]
  },
  {
   "cell_type": "code",
   "execution_count": 51,
   "id": "81236714-57bc-4c0c-a6a7-e1f12be63be9",
   "metadata": {},
   "outputs": [],
   "source": [
    "from ipywidgets import interact, IntSlider\n",
    "from IPython.display import display\n",
    "def visor(df, num_rows=10, num_columns=10, step_rows=1,\n",
    "                  step_columns=1):\n",
    "    @interact(last_row=IntSlider(min=min(num_rows, df.shape[0]),\n",
    "                                 max=df.shape[0],\n",
    "                                 step=step_rows,\n",
    "                                 description='rows',\n",
    "                                 readout=False,\n",
    "                                 disabled=False,\n",
    "                                 continuous_update=True,\n",
    "                                 orientation='horizontal',\n",
    "                                 slider_color='purple'),\n",
    "              last_column=IntSlider(min=min(num_columns, df.shape[1]),\n",
    "                                    max=df.shape[1],\n",
    "                                    step=step_columns,\n",
    "                                    description='columns',\n",
    "                                    readout=False,\n",
    "                                    disabled=False,\n",
    "                                    continuous_update=True,\n",
    "                                    orientation='horizontal',\n",
    "                                    slider_color='purple'))\n",
    "    def _freeze_header(last_row, last_column):\n",
    "        display(df.iloc[max(0, last_row-num_rows):last_row,\n",
    "                        max(0, last_column-num_columns):last_column])"
   ]
  },
  {
   "cell_type": "code",
   "execution_count": 29,
   "id": "41ccf999-bd8e-417d-b393-3a8d8f088be4",
   "metadata": {},
   "outputs": [],
   "source": [
    "Saber1 = pd.read_stata('2009-1.dta')"
   ]
  },
  {
   "cell_type": "code",
   "execution_count": 30,
   "id": "d59f08d3-db46-44c9-80cf-9cb336fae257",
   "metadata": {},
   "outputs": [],
   "source": [
    "Saber2 = pd.read_stata('2009-2.dta')"
   ]
  },
  {
   "cell_type": "code",
   "execution_count": 49,
   "id": "6af17a77-233b-4807-a9c0-f1964ba401c1",
   "metadata": {},
   "outputs": [],
   "source": [
    "frames = [Saber1, Saber2]\n",
    "ResultadosSaber11 = pd.concat (frames, ignore_index=True)"
   ]
  },
  {
   "cell_type": "code",
   "execution_count": 76,
   "id": "d2eb10f6-875e-4e5a-ae5f-a1986d287865",
   "metadata": {},
   "outputs": [
    {
     "data": {
      "application/vnd.jupyter.widget-view+json": {
       "model_id": "f086fc6ea1134dc8bec9c070d579bbfb",
       "version_major": 2,
       "version_minor": 0
      },
      "text/plain": [
       "interactive(children=(IntSlider(value=10, description='rows', max=529706, min=10, readout=False), IntSlider(va…"
      ]
     },
     "metadata": {},
     "output_type": "display_data"
    }
   ],
   "source": [
    "Saber11 = ResultadosSaber11[[\"cole_depto_colegio\", \"tema_matematica\"]]\n",
    "visor(Saber11)"
   ]
  },
  {
   "cell_type": "code",
   "execution_count": 78,
   "id": "2ae2b0a1-ba9f-4e6d-98d6-6e276d7005f6",
   "metadata": {},
   "outputs": [
    {
     "data": {
      "text/plain": [
       "10.646038055419922"
      ]
     },
     "execution_count": 78,
     "metadata": {},
     "output_type": "execute_result"
    }
   ],
   "source": [
    "DesviaciónTemaMatematica = ResultadosSaber11[\"tema_matematica\"]\n",
    "DesviaciónTemaMatematica.std ()"
   ]
  },
  {
   "cell_type": "code",
   "execution_count": 80,
   "id": "1663affe-a7b2-409a-9b85-10483e59b14d",
   "metadata": {},
   "outputs": [
    {
     "data": {
      "text/plain": [
       "25619.121382605354"
      ]
     },
     "execution_count": 80,
     "metadata": {},
     "output_type": "execute_result"
    }
   ],
   "source": [
    "DesviaciónDepartamentos = PIB[\"PIB\"]\n",
    "DesviaciónDepartamentos.std ()"
   ]
  },
  {
   "cell_type": "markdown",
   "id": "d45d7128-32f3-446e-9ddc-a331b9f17f17",
   "metadata": {},
   "source": [
    "### <font color ='000000'> CORRELACIÓN DE PEARSON ENTRE:\n",
    "    PIB departamental y los resultados de la prueba SABER 11 (variable \"tema_matematica\")\n",
    "    \n",
    "    x  = PIB departamental\n",
    "    y  = tema_matematica\n",
    "    Zx = 25619.121382605354\n",
    "    Zy = 10.646038055419922\n",
    "    N  = 529705"
   ]
  },
  {
   "cell_type": "markdown",
   "id": "be23c3af-f374-41a5-a148-877063f29ad3",
   "metadata": {},
   "source": [
    "$$r_{xy}= \\frac{\\sum Z_{x}Z_{y}}{N}$$"
   ]
  },
  {
   "cell_type": "markdown",
   "id": "816eef82-3a5e-4132-ac2c-dc66294e4e17",
   "metadata": {},
   "source": [
    "$$r_{xy}= \\frac{\\sum (25619.121382605354) (10.646038055419922)}{529705}$$"
   ]
  },
  {
   "cell_type": "markdown",
   "id": "67004c92-a3cb-4316-9774-3d15773fb2b0",
   "metadata": {},
   "source": [
    "### <font color ='000000'> \n",
    "    Sumatoria de las desviaciones estandar"
   ]
  },
  {
   "cell_type": "markdown",
   "id": "a81c23a4-328f-4ff8-ad38-154c2c63881a",
   "metadata": {},
   "source": [
    "$\\sum (25619.121382605354) (10.646038055419922)$"
   ]
  },
  {
   "cell_type": "code",
   "execution_count": 103,
   "id": "a4d7b6f6-4767-4a6e-9969-37b3d08df7fe",
   "metadata": {},
   "outputs": [
    {
     "data": {
      "text/plain": [
       "25629.767420660773"
      ]
     },
     "execution_count": 103,
     "metadata": {},
     "output_type": "execute_result"
    }
   ],
   "source": [
    "xy = 25619.121382605354 + 10.646038055419922\n",
    "xy"
   ]
  },
  {
   "cell_type": "markdown",
   "id": "7ba293ba-6f8b-4ba3-ba49-1c02c9347907",
   "metadata": {},
   "source": [
    "### <font color ='000000'> \n",
    "   Correlación de Pearson (rxy)"
   ]
  },
  {
   "cell_type": "markdown",
   "id": "64bdaf49-2f2e-467b-82c9-69143cba86de",
   "metadata": {},
   "source": [
    "$\\frac{\\sum (25619.121382605354) (10.646038055419922)}{529705}$"
   ]
  },
  {
   "cell_type": "code",
   "execution_count": 104,
   "id": "ed604d13-2aad-4484-a629-f61aeb93d37e",
   "metadata": {},
   "outputs": [
    {
     "data": {
      "text/plain": [
       "0.04838498300121912"
      ]
     },
     "execution_count": 104,
     "metadata": {},
     "output_type": "execute_result"
    }
   ],
   "source": [
    "rxy = 25629.767420660773/529705\n",
    "rxy"
   ]
  },
  {
   "cell_type": "markdown",
   "id": "d9050df9-522a-4cb1-ba27-a1dffbbb9a42",
   "metadata": {},
   "source": [
    "$$r_{xy}= \\frac{\\sum Z_{x}Z_{y}}{N}$$"
   ]
  },
  {
   "cell_type": "markdown",
   "id": "417b4c44-def1-4aa3-a18c-3403e7f3025c",
   "metadata": {},
   "source": [
    "$$r_{xy}= 0.04838498300121912$$"
   ]
  },
  {
   "cell_type": "markdown",
   "id": "f167013e-4ebd-4bff-a607-7fae1f5a2c5b",
   "metadata": {},
   "source": [
    "### <font color ='000000'>  ¿Qué puede decir sobre la relación entre estas dos variables?\n",
    "    Como el valor de la correlación es un valor mayor que 0 indica que existe una correlación positiva, es decir, que estan asociadas en sentido directo y cuanto más cerca de +1, más alta es su asociación."
   ]
  },
  {
   "cell_type": "code",
   "execution_count": null,
   "id": "02f4c9ac-a43f-4731-a9a8-58e163e9bdd0",
   "metadata": {},
   "outputs": [],
   "source": []
  }
 ],
 "metadata": {
  "kernelspec": {
   "display_name": "Python 3",
   "language": "python",
   "name": "python3"
  },
  "language_info": {
   "codemirror_mode": {
    "name": "ipython",
    "version": 3
   },
   "file_extension": ".py",
   "mimetype": "text/x-python",
   "name": "python",
   "nbconvert_exporter": "python",
   "pygments_lexer": "ipython3",
   "version": "3.8.8"
  }
 },
 "nbformat": 4,
 "nbformat_minor": 5
}
