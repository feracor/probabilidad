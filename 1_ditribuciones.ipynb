{
  "nbformat": 4,
  "nbformat_minor": 0,
  "metadata": {
    "colab": {
      "provenance": [],
      "toc_visible": true,
      "authorship_tag": "ABX9TyNDTvcYhj+ZUptGc3+AktCn",
      "include_colab_link": true
    },
    "kernelspec": {
      "name": "python3",
      "display_name": "Python 3"
    },
    "language_info": {
      "name": "python"
    }
  },
  "cells": [
    {
      "cell_type": "markdown",
      "metadata": {
        "id": "view-in-github",
        "colab_type": "text"
      },
      "source": [
        "<a href=\"https://colab.research.google.com/github/feracor/probabilidad/blob/main/1_ditribuciones.ipynb\" target=\"_parent\"><img src=\"https://colab.research.google.com/assets/colab-badge.svg\" alt=\"Open In Colab\"/></a>"
      ]
    },
    {
      "cell_type": "markdown",
      "source": [
        "#Usando la distribución binomial"
      ],
      "metadata": {
        "id": "gdJu_lRq8Znv"
      }
    },
    {
      "cell_type": "code",
      "execution_count": 44,
      "metadata": {
        "id": "3bsAgcFv8Xpi"
      },
      "outputs": [],
      "source": [
        "import numpy as np\n",
        "from numpy.random import binomial #Importar generador de números\n",
        "from scipy.stats import binom #Usar función binomial rápidamente\n",
        "from math import factorial #Implementar funciones matemáticas\n",
        "import matplotlib.pyplot as plt"
      ]
    },
    {
      "cell_type": "markdown",
      "source": [
        "##Secuencias de eventos Bernoulli\n",
        "$$\n",
        "P(k, n; p) = {n \\choose k} p^k (1-p)^{n-k} = \\frac{n!}{k!(n-k)!}p^k (1-p)^{n-k}\n",
        "$$"
      ],
      "metadata": {
        "id": "C9nptx7w_ja0"
      }
    },
    {
      "cell_type": "code",
      "source": [
        "#Función de forma general\n",
        "def my_binomial(k,n,p):\n",
        "  return factorial(n)/(factorial(k)*factorial(n-k))*pow(p,k)*pow((1-p),(n-k))"
      ],
      "metadata": {
        "id": "rfctI1mQ83bV"
      },
      "execution_count": 8,
      "outputs": []
    },
    {
      "cell_type": "code",
      "source": [
        "# Ajustar valores k, n, p en la función creada\n",
        "my_binomial(2,3, 0.5) # Obtener dos caras de tres lanzamientos con probabilidad equilibrada de 0.5 (Como el ejemplo se da con monedas, la probabilidad de que caiga una cada de de 1/2, por eso 0.5)"
      ],
      "metadata": {
        "id": "_AT00Gf-A2ee",
        "outputId": "9f802ea9-3279-433d-b6d4-299bc5068411",
        "colab": {
          "base_uri": "https://localhost:8080/"
        }
      },
      "execution_count": 19,
      "outputs": [
        {
          "output_type": "execute_result",
          "data": {
            "text/plain": [
              "0.375"
            ]
          },
          "metadata": {},
          "execution_count": 19
        }
      ]
    },
    {
      "cell_type": "code",
      "source": [
        "3/8 #Comprobar distribución como fracción"
      ],
      "metadata": {
        "id": "TR5HGFVUA7O4",
        "outputId": "523587ac-888c-4137-8780-1ed005070ad3",
        "colab": {
          "base_uri": "https://localhost:8080/"
        }
      },
      "execution_count": 17,
      "outputs": [
        {
          "output_type": "execute_result",
          "data": {
            "text/plain": [
              "0.375"
            ]
          },
          "metadata": {},
          "execution_count": 17
        }
      ]
    },
    {
      "cell_type": "code",
      "source": [
        "#Uso de función traida por scipy.stats\n",
        "dist = binom(3, 0.5) #Ajustar probabilidad de 3 en probabilidad de 0.5\n",
        "dist.pmf(2) #Evaluar éxtio en dos lanzamientos. Probability Mass Function (PMF)"
      ],
      "metadata": {
        "id": "rDAcqCvrBY6Z",
        "outputId": "1233d9b7-bc14-4660-c346-11783d7d5d1d",
        "colab": {
          "base_uri": "https://localhost:8080/"
        }
      },
      "execution_count": 18,
      "outputs": [
        {
          "output_type": "execute_result",
          "data": {
            "text/plain": [
              "0.3750000000000001"
            ]
          },
          "metadata": {},
          "execution_count": 18
        }
      ]
    },
    {
      "cell_type": "code",
      "source": [
        "dist.cdf(2) #Calcular densidad acumulada. Cumulative Distribution Function (CDF)"
      ],
      "metadata": {
        "id": "x_R1rrLtBrkS",
        "outputId": "b676c7cb-99f6-4793-f428-88a8c83a7633",
        "colab": {
          "base_uri": "https://localhost:8080/"
        }
      },
      "execution_count": 21,
      "outputs": [
        {
          "output_type": "execute_result",
          "data": {
            "text/plain": [
              "0.875"
            ]
          },
          "metadata": {},
          "execution_count": 21
        }
      ]
    },
    {
      "cell_type": "markdown",
      "source": [
        "##Simulacion de secuencias aleatorias"
      ],
      "metadata": {
        "id": "gjl_-4W0JUCG"
      }
    },
    {
      "cell_type": "code",
      "source": [
        "p = 0.5\n",
        "n = 3\n",
        "binomial(n,p) #Genera un resultado aleatorio siguiendo una ley de probabilidad"
      ],
      "metadata": {
        "id": "W9cgZZFcJJKt",
        "outputId": "024145f5-fe04-4183-ae65-9695b7155e3d",
        "colab": {
          "base_uri": "https://localhost:8080/"
        }
      },
      "execution_count": 22,
      "outputs": [
        {
          "output_type": "execute_result",
          "data": {
            "text/plain": [
              "2"
            ]
          },
          "metadata": {},
          "execution_count": 22
        }
      ]
    },
    {
      "cell_type": "code",
      "source": [
        "binomial(n,p)"
      ],
      "metadata": {
        "id": "lgf3AmWdJ6W-",
        "outputId": "00471d99-d46c-49f8-ef23-e11fea3a852a",
        "colab": {
          "base_uri": "https://localhost:8080/"
        }
      },
      "execution_count": 23,
      "outputs": [
        {
          "output_type": "execute_result",
          "data": {
            "text/plain": [
              "1"
            ]
          },
          "metadata": {},
          "execution_count": 23
        }
      ]
    },
    {
      "cell_type": "code",
      "source": [
        "#1.\n",
        "arr = [] #Genera arreglo vacio\n",
        "for _ in range(100): #Evalua cada espacio en el arreglo ajustando a 100 su dimensión\n",
        "  arr.append(binomial(n,p)) #En cada espacio, se guarda un resultado aleatório\n",
        "arr\n",
        "#Se ingresará en una función para graficar una simulación"
      ],
      "metadata": {
        "id": "s_p41JOaJ9hH",
        "outputId": "a158edb6-fe71-4942-b626-1638a5e3d046",
        "colab": {
          "base_uri": "https://localhost:8080/"
        }
      },
      "execution_count": 33,
      "outputs": [
        {
          "output_type": "execute_result",
          "data": {
            "text/plain": [
              "[1,\n",
              " 0,\n",
              " 2,\n",
              " 1,\n",
              " 3,\n",
              " 1,\n",
              " 2,\n",
              " 1,\n",
              " 0,\n",
              " 2,\n",
              " 2,\n",
              " 1,\n",
              " 1,\n",
              " 2,\n",
              " 1,\n",
              " 3,\n",
              " 1,\n",
              " 0,\n",
              " 1,\n",
              " 0,\n",
              " 0,\n",
              " 3,\n",
              " 1,\n",
              " 0,\n",
              " 3,\n",
              " 0,\n",
              " 3,\n",
              " 1,\n",
              " 1,\n",
              " 1,\n",
              " 1,\n",
              " 1,\n",
              " 3,\n",
              " 3,\n",
              " 1,\n",
              " 2,\n",
              " 1,\n",
              " 1,\n",
              " 2,\n",
              " 3,\n",
              " 1,\n",
              " 2,\n",
              " 1,\n",
              " 2,\n",
              " 1,\n",
              " 1,\n",
              " 2,\n",
              " 1,\n",
              " 2,\n",
              " 2,\n",
              " 1,\n",
              " 2,\n",
              " 1,\n",
              " 1,\n",
              " 0,\n",
              " 1,\n",
              " 2,\n",
              " 0,\n",
              " 1,\n",
              " 1,\n",
              " 2,\n",
              " 3,\n",
              " 2,\n",
              " 2,\n",
              " 1,\n",
              " 2,\n",
              " 2,\n",
              " 2,\n",
              " 2,\n",
              " 1,\n",
              " 2,\n",
              " 2,\n",
              " 3,\n",
              " 0,\n",
              " 2,\n",
              " 1,\n",
              " 2,\n",
              " 2,\n",
              " 1,\n",
              " 2,\n",
              " 1,\n",
              " 3,\n",
              " 2,\n",
              " 1,\n",
              " 1,\n",
              " 2,\n",
              " 2,\n",
              " 1,\n",
              " 1,\n",
              " 0,\n",
              " 2,\n",
              " 2,\n",
              " 1,\n",
              " 1,\n",
              " 3,\n",
              " 2,\n",
              " 1,\n",
              " 2,\n",
              " 0,\n",
              " 1]"
            ]
          },
          "metadata": {},
          "execution_count": 33
        }
      ]
    },
    {
      "cell_type": "code",
      "source": [
        "#2. Genera una probabilidad\n",
        "sim = np.unique(arr, return_counts=True)[1]/len(arr) # identifica los elementos únicos de una lista\n",
        "sim\n",
        "#Se ingresará en una función para graficar una simulación"
      ],
      "metadata": {
        "id": "DpQYpv4sNoAL",
        "outputId": "ba1a8d2f-590f-4aa2-b4a9-638481e06764",
        "colab": {
          "base_uri": "https://localhost:8080/"
        }
      },
      "execution_count": 35,
      "outputs": [
        {
          "output_type": "execute_result",
          "data": {
            "text/plain": [
              "array([0.12, 0.42, 0.34, 0.12])"
            ]
          },
          "metadata": {},
          "execution_count": 35
        }
      ]
    },
    {
      "cell_type": "code",
      "source": [
        "#3. Genera distribucion teórica\n",
        "values = [0,1,2,3]\n",
        "teorica = [binom(3, 0.5).pmf(k) for k in values] #3.\n",
        "teorica\n",
        "#Se ingresará en una función para graficar una simulación"
      ],
      "metadata": {
        "id": "9gf1ia6NO1pI",
        "outputId": "280fc3cc-4549-4e03-ed33-f8c2e99febcd",
        "colab": {
          "base_uri": "https://localhost:8080/"
        }
      },
      "execution_count": 36,
      "outputs": [
        {
          "output_type": "execute_result",
          "data": {
            "text/plain": [
              "[0.12499999999999999, 0.3750000000000001, 0.3750000000000001, 0.125]"
            ]
          },
          "metadata": {},
          "execution_count": 36
        }
      ]
    },
    {
      "cell_type": "code",
      "source": [
        "#Generar resultados aletatorios y compararlos con los valores teóricos en una funcion\n",
        "def plot_hist(num_trials):\n",
        "  values = [0,1,2,3]\n",
        "  arr = []\n",
        "  for _ in range(num_trials): #1.\n",
        "    arr.append(binomial(n,p))\n",
        "  sim = np.unique(arr, return_counts=True)[1]/len(arr) #2.\n",
        "  teorica = [binom(3, 0.5).pmf(k) for k in values] #3.\n",
        "  plt.bar(values, sim, color ='red') #4.Generar gráfica con valores simulados\n",
        "  plt.bar(values, teorica, alpha= 0.5, color ='blue') #4.Generar gráfica con valores teóricos\n",
        "  plt.title('{} experimentos'.format(num_trials))\n",
        "  plt.show()"
      ],
      "metadata": {
        "id": "Ap2UYtRKKKA6"
      },
      "execution_count": 45,
      "outputs": []
    },
    {
      "cell_type": "code",
      "source": [
        "plot_hist(20) #Se realizan 20 lanzamientos y se compara con el valor teórico que debería dar"
      ],
      "metadata": {
        "id": "gSN2bBg_MToX",
        "outputId": "1a395aba-5569-4588-cd12-f23e92e83006",
        "colab": {
          "base_uri": "https://localhost:8080/",
          "height": 452
        }
      },
      "execution_count": 46,
      "outputs": [
        {
          "output_type": "display_data",
          "data": {
            "text/plain": [
              "<Figure size 640x480 with 1 Axes>"
            ],
            "image/png": "[encoded data removed]"
          },
          "metadata": {}
        }
      ]
    },
    {
      "cell_type": "code",
      "source": [
        "plot_hist(20) #Se realizan 20 lanzamientos y se compara con el valor teórico que debería dar"
      ],
      "metadata": {
        "id": "8ibzx6nJMix-",
        "outputId": "ea20b10b-3465-4b97-f650-92d3f3fe20c1",
        "colab": {
          "base_uri": "https://localhost:8080/",
          "height": 452
        }
      },
      "execution_count": 47,
      "outputs": [
        {
          "output_type": "display_data",
          "data": {
            "text/plain": [
              "<Figure size 640x480 with 1 Axes>"
            ],
            "image/png": "[encoded data removed]"
          },
          "metadata": {}
        }
      ]
    },
    {
      "cell_type": "code",
      "source": [
        "plot_hist(20) #Se realizan 20 lanzamientos y se compara con el valor teórico que debería dar"
      ],
      "metadata": {
        "id": "pVKDFaL-QJcf",
        "outputId": "2a9dd45a-7fa7-46c2-c5ba-a366d0e99bb0",
        "colab": {
          "base_uri": "https://localhost:8080/",
          "height": 452
        }
      },
      "execution_count": 48,
      "outputs": [
        {
          "output_type": "display_data",
          "data": {
            "text/plain": [
              "<Figure size 640x480 with 1 Axes>"
            ],
            "image/png": "[encoded data removed]"
          },
          "metadata": {}
        }
      ]
    },
    {
      "cell_type": "code",
      "source": [],
      "metadata": {
        "id": "604NEoNPQLOw"
      },
      "execution_count": null,
      "outputs": []
    }
  ]
}